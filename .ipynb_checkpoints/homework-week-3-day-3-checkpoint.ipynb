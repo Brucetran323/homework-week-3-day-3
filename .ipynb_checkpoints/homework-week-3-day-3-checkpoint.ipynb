{
 "cells": [
  {
   "cell_type": "markdown",
   "id": "7a750ea2",
   "metadata": {},
   "source": [
    "# Exercise #1 <br>\n",
    "<p>Reverse the list below in-place using an in-place algorithm.<br>For extra credit: Reverse the strings at the same time.</p>"
   ]
  },
  {
   "cell_type": "code",
   "execution_count": 10,
   "id": "2eac91db",
   "metadata": {},
   "outputs": [
    {
     "name": "stdout",
     "output_type": "stream",
     "text": [
      "Orignial list\n",
      "['this', 'is', 'a', 'sentence', '.']\n",
      "\n",
      "['.', 'ecnetnes', 'a', 'si', 'siht']\n",
      "After running revIt\n",
      "['.', 'sentence', 'a', 'is', 'this']\n",
      "\n"
     ]
    }
   ],
   "source": [
    "words = ['this' , 'is', 'a', 'sentence', '.']\n",
    "\n",
    "def revIt(alist, x, y, z, p, v):\n",
    "    alist[x], alist[y], alist[z], alist[p], alist[v] = alist[v], alist[p], alist[z], alist[y], alist[x]\n",
    "    z = []\n",
    "    for word in alist:\n",
    "        x = word[::-1]\n",
    "        z.append(x)\n",
    "    print(z)\n",
    "\n",
    "def pointRev(alist): \n",
    "    left_word = 0\n",
    "    right_word = len(alist)-1\n",
    "    while left_word < right_word:\n",
    "        alist[left_word], alist[right_word] = alist[right_word], alist[left_word]\n",
    "        left_word += 1\n",
    "        right_word -= 1\n",
    "        \n",
    "\n",
    "\n",
    "print(f\"Orignial list\\n{words}\\n\")\n",
    "\n",
    "# Had to comment out or else the pointRev would un reverse the list\n",
    "revIt(words, 0, 1, 2, 3, 4)\n",
    "print(f\"After running revIt\\n{words}\\n\")\n",
    "\n",
    "# pointRev(words)\n",
    "# print(f\"After using Two Pointers\\n{words}\")\n"
   ]
  },
  {
   "cell_type": "markdown",
   "id": "21d5946f",
   "metadata": {},
   "source": [
    "# Exercise #2 <br>\n",
    "<p>Create a function that counts how many distinct words are in the string below, then outputs a dictionary with the words as the key and the value as the amount of times that word appears in the string.<br>Should output:<br>{'a': 5,<br>\n",
    " 'abstract': 1,<br>\n",
    " 'an': 3,<br>\n",
    " 'array': 2, ... etc...</p>"
   ]
  },
  {
   "cell_type": "code",
   "execution_count": 1,
   "id": "c9c8bbf1",
   "metadata": {},
   "outputs": [
    {
     "data": {
      "text/plain": [
       "{'a': 5,\n",
       " 'abstract': 1,\n",
       " 'an': 3,\n",
       " 'array': 2,\n",
       " 'associative': 1,\n",
       " 'be': 1,\n",
       " 'buckets': 1,\n",
       " 'can': 2,\n",
       " 'compute': 1,\n",
       " 'computing,': 1,\n",
       " 'data': 2,\n",
       " 'desired': 1,\n",
       " 'found': 1,\n",
       " 'from': 1,\n",
       " 'function': 1,\n",
       " 'hash': 4,\n",
       " 'implements': 1,\n",
       " 'in': 1,\n",
       " 'index': 1,\n",
       " 'into': 1,\n",
       " 'is': 1,\n",
       " 'keys': 1,\n",
       " 'map': 2,\n",
       " 'of': 1,\n",
       " 'or': 1,\n",
       " 'slots': 1,\n",
       " 'structure': 2,\n",
       " 'table': 2,\n",
       " 'that': 1,\n",
       " 'the': 1,\n",
       " 'to': 2,\n",
       " 'type,': 1,\n",
       " 'uses': 1,\n",
       " 'value': 1,\n",
       " 'values.': 1,\n",
       " 'which': 2}"
      ]
     },
     "execution_count": 1,
     "metadata": {},
     "output_type": "execute_result"
    }
   ],
   "source": [
    "a_text = 'In computing, a hash table hash map is a data structure which implements an associative array abstract data type, a structure that can map keys to values. A hash table uses a hash function to compute an index into an array of buckets or slots from which the desired value can be found'\n",
    "\n",
    "def wordCount(alist):\n",
    "    words= {}\n",
    "    x = alist.lower().split(\" \")\n",
    "    x.sort()\n",
    "    for i in x:\n",
    "        if not i in words:\n",
    "            words[i] = 1\n",
    "        else:\n",
    "            words[i] +=1\n",
    "        \n",
    "    return words\n",
    "        \n",
    "wordCount(a_text)"
   ]
  },
  {
   "cell_type": "markdown",
   "id": "bbf54ce9",
   "metadata": {},
   "source": [
    "\n",
    "# Exercise #3\n",
    "\n",
    "Write a program to implement a Linear Search Algorithm. Also in a comment, write the Time Complexity of the following algorithm.\n",
    "\n",
    "#### Hint: Linear Searching will require searching a list for a given number. "
   ]
  },
  {
   "cell_type": "code",
   "execution_count": 21,
   "id": "adeb5024",
   "metadata": {},
   "outputs": [
    {
     "name": "stdout",
     "output_type": "stream",
     "text": [
      "This is just a guess, but if my list got bigger the time complexity would shoot up due to the size of the list. \n",
      "      This function checks every single item using an if statments. Not very efficent \n"
     ]
    },
    {
     "data": {
      "text/plain": [
       "'Your number: 55 is at index 1'"
      ]
     },
     "execution_count": 21,
     "metadata": {},
     "output_type": "execute_result"
    }
   ],
   "source": [
    "num_list = [69, 55, 103, 102, 101, 85]\n",
    "\n",
    "def findIt(alist, x):\n",
    "    if x in alist:\n",
    "        return (f\"Your number: {x} is at index {alist.index(x)}\")\n",
    "    else:\n",
    "        return False\n",
    "    \n",
    "print(\"\"\"This is just a guess, but if my list got bigger the time complexity would shoot up due to the size of the list. \n",
    "      This function checks every single item using an if statments. Not very efficent \"\"\")\n",
    "findIt(num_list, 55)\n",
    "\n"
   ]
  }
 ],
 "metadata": {
  "kernelspec": {
   "display_name": "Python 3 (ipykernel)",
   "language": "python",
   "name": "python3"
  },
  "language_info": {
   "codemirror_mode": {
    "name": "ipython",
    "version": 3
   },
   "file_extension": ".py",
   "mimetype": "text/x-python",
   "name": "python",
   "nbconvert_exporter": "python",
   "pygments_lexer": "ipython3",
   "version": "3.9.13"
  }
 },
 "nbformat": 4,
 "nbformat_minor": 5
}
